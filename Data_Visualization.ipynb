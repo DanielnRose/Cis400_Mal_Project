{
 "cells": [
  {
   "cell_type": "code",
   "execution_count": 1,
   "id": "3ac57999",
   "metadata": {},
   "outputs": [],
   "source": [
    "import Recommendations\n",
    "import MAL_Cookbook\n",
    "client_id = \"d1ba6c8f42d9abdc2aa2d84fb61702e5\""
   ]
  },
  {
   "cell_type": "code",
   "execution_count": 2,
   "id": "aa6014b2",
   "metadata": {},
   "outputs": [],
   "source": [
    "user = 'ohio64'"
   ]
  },
  {
   "cell_type": "code",
   "execution_count": 3,
   "id": "22082100",
   "metadata": {
    "scrolled": false
   },
   "outputs": [
    {
     "name": "stdout",
     "output_type": "stream",
     "text": [
      "Median Year: 2017\n",
      "Top genres: ['Action', 'Shounen', 'Drama', 'Supernatural', 'School']\n",
      "Median Episodes: 16\n",
      "1 Muhyo to Rouji no Mahouritsu Soudan Jimusho 8.200000000000001\n",
      "2 Owari no Seraph: Nagoya Kessen-hen 8.000000000000002\n",
      "3 Owari no Seraph 8.000000000000002\n",
      "4 Arslan Senki (TV): Fuujin Ranbu 8.0\n",
      "5 Muhyo to Rouji no Mahouritsu Soudan Jimusho 2nd Season 7.800000000000001\n",
      "6 Owari no Seraph: Kyuuketsuki Shahar 7.65\n",
      "7 Owari no Seraph: The Beginning of the End 7.450000000000001\n",
      "8 Katsute Kami Datta Kemono-tachi e 7.2\n",
      "9 Kekkai Sensen & Beyond 7.199999999999999\n",
      "10 Ushio to Tora (TV) 2nd Season 7.049999999999999\n"
     ]
    }
   ],
   "source": [
    "recommendations = Recommendations.getRecommendations(user, .20, .60, .10, .10)"
   ]
  },
  {
   "cell_type": "markdown",
   "id": "3e900fef",
   "metadata": {},
   "source": [
    "# Function - Visualize Top 5 Shows"
   ]
  },
  {
   "cell_type": "code",
   "execution_count": 4,
   "id": "a9aa3594",
   "metadata": {
    "scrolled": true
   },
   "outputs": [],
   "source": [
    "import requests\n",
    "import urllib.request\n",
    "#import matplotlib.pyplot as plt\n",
    "#from matplotlib.offsetbox import OffsetImage, AnnotationBbox\n",
    "import pandas as pd\n",
    "from IPython.display import display, HTML\n",
    "    \n",
    "def visualizeTop5Shows(client_id, recommendations):\n",
    "    recommendations = recommendations[:5]\n",
    "    i = 1\n",
    "    old_top5 = recommendations\n",
    "    top5_recs = []\n",
    "\n",
    "    show_pictures = MAL_Cookbook.get_show_pictures(client_id, [tuple[0] for tuple in recommendations])\n",
    "    for id in show_pictures:\n",
    "        poster_path = show_pictures[id]['medium']\n",
    "    poster_urls = [show_pictures[id]['medium'] for id in show_pictures]\n",
    "\n",
    "    while i <= 5:\n",
    "\n",
    "        show_id = old_top5[i - 1][0]\n",
    "        stats = MAL_Cookbook.get_show_stats(client_id, show_id)\n",
    "        title = stats[0]['title']\n",
    "        rating = old_top5[i - 1][1]\n",
    "        #poster_path = 'http://localhost:8888/view/data/rec' +  str(i) + '.jpg'\n",
    "        poster_path = poster_urls[i - 1]\n",
    "        top5_recs.append((title, rating, poster_path))\n",
    "        i += 1\n",
    "\n",
    "    #print(top5_recs)\n",
    "    df = pd.DataFrame(top5_recs, columns = ['Title', 'Recommendation Score', 'Poster'])\n",
    "\n",
    "    df['Poster'] = poster_urls\n",
    "    # Rendering the dataframe as HTML table\n",
    "    return df #.to_html(escape=False, formatters=dict(Poster=path_to_image_html))\n",
    "\n",
    "    # Rendering the images in the dataframe using the HTML method.\n",
    "    HTML(df.to_html(escape=False,formatters=dict(Poster=path_to_image_html)))\n",
    "    \n",
    "# Converting links to html tags\n",
    "def path_to_image_html(path):\n",
    "    return '<img src=\"'+ path + '\" width=\"60\" >'"
   ]
  },
  {
   "cell_type": "markdown",
   "id": "4950c9c6",
   "metadata": {},
   "source": [
    "# Get Top 5 Recommendations"
   ]
  },
  {
   "cell_type": "markdown",
   "id": "718c9e3a",
   "metadata": {},
   "source": [
    "## Using Pandas, we create a dataframe that includes the poster images"
   ]
  },
  {
   "cell_type": "code",
   "execution_count": 5,
   "id": "0d23cca6",
   "metadata": {
    "scrolled": true
   },
   "outputs": [
    {
     "data": {
      "text/html": [
       "<table border=\"1\" class=\"dataframe\">\n",
       "  <thead>\n",
       "    <tr style=\"text-align: right;\">\n",
       "      <th></th>\n",
       "      <th>Title</th>\n",
       "      <th>Recommendation Score</th>\n",
       "      <th>Poster</th>\n",
       "    </tr>\n",
       "  </thead>\n",
       "  <tbody>\n",
       "    <tr>\n",
       "      <th>0</th>\n",
       "      <td>Muhyo to Rouji no Mahouritsu Soudan Jimusho</td>\n",
       "      <td>8.2</td>\n",
       "      <td><img src=\"https://api-cdn.myanimelist.net/images/anime/1180/93407.jpg\" width=\"60\" ></td>\n",
       "    </tr>\n",
       "    <tr>\n",
       "      <th>1</th>\n",
       "      <td>Owari no Seraph: Nagoya Kessen-hen</td>\n",
       "      <td>8.0</td>\n",
       "      <td><img src=\"https://api-cdn.myanimelist.net/images/anime/9/76632.jpg\" width=\"60\" ></td>\n",
       "    </tr>\n",
       "    <tr>\n",
       "      <th>2</th>\n",
       "      <td>Owari no Seraph</td>\n",
       "      <td>8.0</td>\n",
       "      <td><img src=\"https://api-cdn.myanimelist.net/images/anime/5/73474.jpg\" width=\"60\" ></td>\n",
       "    </tr>\n",
       "    <tr>\n",
       "      <th>3</th>\n",
       "      <td>Arslan Senki (TV): Fuujin Ranbu</td>\n",
       "      <td>8.0</td>\n",
       "      <td><img src=\"https://api-cdn.myanimelist.net/images/anime/12/80681.jpg\" width=\"60\" ></td>\n",
       "    </tr>\n",
       "    <tr>\n",
       "      <th>4</th>\n",
       "      <td>Muhyo to Rouji no Mahouritsu Soudan Jimusho 2nd Season</td>\n",
       "      <td>7.8</td>\n",
       "      <td><img src=\"https://api-cdn.myanimelist.net/images/anime/1962/108429.jpg\" width=\"60\" ></td>\n",
       "    </tr>\n",
       "  </tbody>\n",
       "</table>"
      ],
      "text/plain": [
       "<IPython.core.display.HTML object>"
      ]
     },
     "execution_count": 5,
     "metadata": {},
     "output_type": "execute_result"
    }
   ],
   "source": [
    "df = visualizeTop5Shows(client_id, recommendations)\n",
    "df.to_html(escape=False, formatters=dict(Poster=path_to_image_html))\n",
    "\n",
    "# Rendering posters in dataframe using the HTML\n",
    "HTML(df.to_html(escape=False,formatters=dict(Poster=path_to_image_html)))"
   ]
  },
  {
   "cell_type": "code",
   "execution_count": null,
   "id": "19a56b1d",
   "metadata": {},
   "outputs": [],
   "source": []
  }
 ],
 "metadata": {
  "interpreter": {
   "hash": "b081a66ee97bd2b6a16f43955f1d810b7ea816d6eaeb65e157ef9e038445f0c6"
  },
  "kernelspec": {
   "display_name": "Python 3 (ipykernel)",
   "language": "python",
   "name": "python3"
  },
  "language_info": {
   "codemirror_mode": {
    "name": "ipython",
    "version": 3
   },
   "file_extension": ".py",
   "mimetype": "text/x-python",
   "name": "python",
   "nbconvert_exporter": "python",
   "pygments_lexer": "ipython3",
   "version": "3.9.5"
  }
 },
 "nbformat": 4,
 "nbformat_minor": 5
}
